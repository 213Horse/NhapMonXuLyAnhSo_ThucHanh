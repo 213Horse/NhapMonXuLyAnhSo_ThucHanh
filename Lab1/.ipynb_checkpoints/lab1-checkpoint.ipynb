{
 "cells": [
  {
   "cell_type": "code",
   "execution_count": 11,
   "metadata": {},
   "outputs": [
    {
     "ename": "ModuleNotFoundError",
     "evalue": "No module named 'cv2'",
     "output_type": "error",
     "traceback": [
      "\u001b[31m---------------------------------------------------------------------------\u001b[39m",
      "\u001b[31mModuleNotFoundError\u001b[39m                       Traceback (most recent call last)",
      "\u001b[36mCell\u001b[39m\u001b[36m \u001b[39m\u001b[32mIn[11]\u001b[39m\u001b[32m, line 1\u001b[39m\n\u001b[32m----> \u001b[39m\u001b[32m1\u001b[39m \u001b[38;5;28;01mimport\u001b[39;00m\u001b[38;5;250m \u001b[39m\u001b[34;01mcv2\u001b[39;00m\n\u001b[32m      3\u001b[39m img = cv2.imread(\u001b[33m'\u001b[39m\u001b[33m./XLA_lab1/exercise/baby.jpeg\u001b[39m\u001b[33m'\u001b[39m)\n\u001b[32m      5\u001b[39m blue_img = img.copy()\n",
      "\u001b[31mModuleNotFoundError\u001b[39m: No module named 'cv2'"
     ]
    }
   ],
   "source": [
    "import cv2\n",
    "\n",
    "img = cv2.imread('./XLA_lab1/exercise/baby.jpeg')\n",
    "\n",
    "blue_img = img.copy()\n",
    "blue_img[:, :, 1] = 0\n",
    "blue_img[:, :, 2] = 0\n",
    "\n",
    "green_img = img.copy()\n",
    "green_img[:, :, 0] = 0\n",
    "green_img[:, :, 2] = 0\n",
    "\n",
    "red_img = img.copy()\n",
    "red_img[:, :, 0] = 0\n",
    "red_img[:, :, 1] = 0\n",
    "\n",
    "cv2.imwrite('./XLA_lab1/blue.jpg', blue_img)\n",
    "cv2.imwrite('./XLA_lab1/green.jpg', green_img)\n",
    "cv2.imwrite('./XLA_lab1/red.jpg', red_img)\n"
   ]
  }
 ],
 "metadata": {
  "language_info": {
   "name": "python"
  }
 },
 "nbformat": 4,
 "nbformat_minor": 2
}
